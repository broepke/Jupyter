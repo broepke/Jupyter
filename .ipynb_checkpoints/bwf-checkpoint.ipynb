{
 "cells": [
  {
   "cell_type": "markdown",
   "metadata": {},
   "source": [
    "# Built With Forge Jupyter"
   ]
  },
  {
   "cell_type": "markdown",
   "metadata": {},
   "source": [
    "## Instructions\n",
    "\n",
    "This Jupyter Notebook parses a local CSV file named \"bwf.csv\" that contains a dump from the Built with Forge Heatmap.  This assumes that there are no headers in the file and that some of the superflous items are removed.  The following Order is assumed for the columns in the CSV file.\n",
    "\n",
    "1. \"Service Name\"\n",
    "2. \"Product Family\"\n",
    "3. \"Observability/ Supportability\"\n",
    "4. \"Quality\"\n",
    "5. \"Cost Efficiency\"\n",
    "6. \"Compliance/ Privacy\"\n",
    "7. \"Reliability/ Availability\"\n",
    "8. \"Build/ Release\"\n",
    "9. \"Security\"\n",
    "10. \"Scalability/ Performance\"\n",
    "11. \"Common Architecture\"\n",
    "12. \"Bronze Total\"\n",
    "\n",
    "Finally - ensure that the values for the percentages are stored as numbers in the CSV and do not contain the \"%\" sign.  You might need to pre-process the data slightly for this purpose."
   ]
  },
  {
   "cell_type": "markdown",
   "metadata": {},
   "source": [
    "### List the Contents of the Directory\n",
    "\n",
    "Make sure the bwf.csv file is present.  (Also this is here to show the \"!\" in front of a standard shell command.)"
   ]
  },
  {
   "cell_type": "code",
   "execution_count": null,
   "metadata": {},
   "outputs": [],
   "source": [
    "!ls"
   ]
  },
  {
   "cell_type": "markdown",
   "metadata": {},
   "source": [
    "### Load Matplotlib as well as Pandas\n",
    "\n",
    "Utilities used for visualization and file parsing"
   ]
  },
  {
   "cell_type": "code",
   "execution_count": null,
   "metadata": {},
   "outputs": [],
   "source": [
    "%matplotlib inline\n",
    "import pandas as pd"
   ]
  },
  {
   "cell_type": "code",
   "execution_count": null,
   "metadata": {},
   "outputs": [],
   "source": [
    "bwf = pd.read_csv(\"bwf.csv\", names=[\"SVCS\",\"FAM\",\"MON\", \"QA\", \"COST\", \"COMP\", \"REL\", \"CICD\", \"SEC\", \"PERF\", \"ARCH\",\"TOTAL\"])"
   ]
  },
  {
   "cell_type": "markdown",
   "metadata": {},
   "source": [
    "### Display the File\n",
    "\n",
    "The head command will load the first five rows of the spreadsheet"
   ]
  },
  {
   "cell_type": "code",
   "execution_count": null,
   "metadata": {},
   "outputs": [],
   "source": [
    "bwf.head()"
   ]
  },
  {
   "cell_type": "markdown",
   "metadata": {},
   "source": [
    "### Display Some Visulazations about the Data"
   ]
  },
  {
   "cell_type": "code",
   "execution_count": null,
   "metadata": {},
   "outputs": [],
   "source": [
    "bwf.TOTAL.plot()"
   ]
  },
  {
   "cell_type": "code",
   "execution_count": null,
   "metadata": {},
   "outputs": [],
   "source": [
    "bwf.TOTAL.hist()"
   ]
  },
  {
   "cell_type": "code",
   "execution_count": null,
   "metadata": {},
   "outputs": [],
   "source": [
    "pd.crosstab(bwf.FAM, bwf.TOTAL)"
   ]
  },
  {
   "cell_type": "code",
   "execution_count": null,
   "metadata": {},
   "outputs": [],
   "source": []
  }
 ],
 "metadata": {
  "kernelspec": {
   "display_name": "Python 3",
   "language": "python",
   "name": "python3"
  },
  "language_info": {
   "codemirror_mode": {
    "name": "ipython",
    "version": 3
   },
   "file_extension": ".py",
   "mimetype": "text/x-python",
   "name": "python",
   "nbconvert_exporter": "python",
   "pygments_lexer": "ipython3",
   "version": "3.7.1"
  }
 },
 "nbformat": 4,
 "nbformat_minor": 2
}
