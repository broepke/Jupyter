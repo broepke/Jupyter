{
 "cells": [
  {
   "cell_type": "code",
   "execution_count": 1,
   "metadata": {},
   "outputs": [],
   "source": [
    "def A(m, n, s =\"% s\"): \n",
    "    print(s % (\"A(% d, % d)\" % (m, n))) \n",
    "    if m == 0: \n",
    "        return n + 1\n",
    "    if n == 0: \n",
    "        return A(m - 1, 1, s) \n",
    "    n2 = A(m, n - 1, s % (\"A(% d, %% s)\" % (m - 1))) \n",
    "    return A(m - 1, n2, s)"
   ]
  },
  {
   "cell_type": "code",
   "execution_count": 2,
   "metadata": {},
   "outputs": [
    {
     "name": "stdout",
     "output_type": "stream",
     "text": [
      "A( 1,  2)\n",
      "A( 0, A( 1,  1))\n",
      "A( 0, A( 0, A( 1,  0)))\n",
      "A( 0, A( 0, A( 0,  1)))\n",
      "A( 0, A( 0,  2))\n",
      "A( 0,  3)\n"
     ]
    },
    {
     "data": {
      "text/plain": [
       "4"
      ]
     },
     "execution_count": 2,
     "metadata": {},
     "output_type": "execute_result"
    }
   ],
   "source": [
    "A(1, 2)"
   ]
  },
  {
   "cell_type": "code",
   "execution_count": 3,
   "metadata": {},
   "outputs": [
    {
     "name": "stdout",
     "output_type": "stream",
     "text": [
      "A( 2,  2)\n",
      "A( 1, A( 2,  1))\n",
      "A( 1, A( 1, A( 2,  0)))\n",
      "A( 1, A( 1, A( 1,  1)))\n",
      "A( 1, A( 1, A( 0, A( 1,  0))))\n",
      "A( 1, A( 1, A( 0, A( 0,  1))))\n",
      "A( 1, A( 1, A( 0,  2)))\n",
      "A( 1, A( 1,  3))\n",
      "A( 1, A( 0, A( 1,  2)))\n",
      "A( 1, A( 0, A( 0, A( 1,  1))))\n",
      "A( 1, A( 0, A( 0, A( 0, A( 1,  0)))))\n",
      "A( 1, A( 0, A( 0, A( 0, A( 0,  1)))))\n",
      "A( 1, A( 0, A( 0, A( 0,  2))))\n",
      "A( 1, A( 0, A( 0,  3)))\n",
      "A( 1, A( 0,  4))\n",
      "A( 1,  5)\n",
      "A( 0, A( 1,  4))\n",
      "A( 0, A( 0, A( 1,  3)))\n",
      "A( 0, A( 0, A( 0, A( 1,  2))))\n",
      "A( 0, A( 0, A( 0, A( 0, A( 1,  1)))))\n",
      "A( 0, A( 0, A( 0, A( 0, A( 0, A( 1,  0))))))\n",
      "A( 0, A( 0, A( 0, A( 0, A( 0, A( 0,  1))))))\n",
      "A( 0, A( 0, A( 0, A( 0, A( 0,  2)))))\n",
      "A( 0, A( 0, A( 0, A( 0,  3))))\n",
      "A( 0, A( 0, A( 0,  4)))\n",
      "A( 0, A( 0,  5))\n",
      "A( 0,  6)\n"
     ]
    },
    {
     "data": {
      "text/plain": [
       "7"
      ]
     },
     "execution_count": 3,
     "metadata": {},
     "output_type": "execute_result"
    }
   ],
   "source": [
    "A(2, 2)"
   ]
  },
  {
   "cell_type": "code",
   "execution_count": 4,
   "metadata": {},
   "outputs": [
    {
     "name": "stdout",
     "output_type": "stream",
     "text": [
      "A( 2,  3)\n",
      "A( 1, A( 2,  2))\n",
      "A( 1, A( 1, A( 2,  1)))\n",
      "A( 1, A( 1, A( 1, A( 2,  0))))\n",
      "A( 1, A( 1, A( 1, A( 1,  1))))\n",
      "A( 1, A( 1, A( 1, A( 0, A( 1,  0)))))\n",
      "A( 1, A( 1, A( 1, A( 0, A( 0,  1)))))\n",
      "A( 1, A( 1, A( 1, A( 0,  2))))\n",
      "A( 1, A( 1, A( 1,  3)))\n",
      "A( 1, A( 1, A( 0, A( 1,  2))))\n",
      "A( 1, A( 1, A( 0, A( 0, A( 1,  1)))))\n",
      "A( 1, A( 1, A( 0, A( 0, A( 0, A( 1,  0))))))\n",
      "A( 1, A( 1, A( 0, A( 0, A( 0, A( 0,  1))))))\n",
      "A( 1, A( 1, A( 0, A( 0, A( 0,  2)))))\n",
      "A( 1, A( 1, A( 0, A( 0,  3))))\n",
      "A( 1, A( 1, A( 0,  4)))\n",
      "A( 1, A( 1,  5))\n",
      "A( 1, A( 0, A( 1,  4)))\n",
      "A( 1, A( 0, A( 0, A( 1,  3))))\n",
      "A( 1, A( 0, A( 0, A( 0, A( 1,  2)))))\n",
      "A( 1, A( 0, A( 0, A( 0, A( 0, A( 1,  1))))))\n",
      "A( 1, A( 0, A( 0, A( 0, A( 0, A( 0, A( 1,  0)))))))\n",
      "A( 1, A( 0, A( 0, A( 0, A( 0, A( 0, A( 0,  1)))))))\n",
      "A( 1, A( 0, A( 0, A( 0, A( 0, A( 0,  2))))))\n",
      "A( 1, A( 0, A( 0, A( 0, A( 0,  3)))))\n",
      "A( 1, A( 0, A( 0, A( 0,  4))))\n",
      "A( 1, A( 0, A( 0,  5)))\n",
      "A( 1, A( 0,  6))\n",
      "A( 1,  7)\n",
      "A( 0, A( 1,  6))\n",
      "A( 0, A( 0, A( 1,  5)))\n",
      "A( 0, A( 0, A( 0, A( 1,  4))))\n",
      "A( 0, A( 0, A( 0, A( 0, A( 1,  3)))))\n",
      "A( 0, A( 0, A( 0, A( 0, A( 0, A( 1,  2))))))\n",
      "A( 0, A( 0, A( 0, A( 0, A( 0, A( 0, A( 1,  1)))))))\n",
      "A( 0, A( 0, A( 0, A( 0, A( 0, A( 0, A( 0, A( 1,  0))))))))\n",
      "A( 0, A( 0, A( 0, A( 0, A( 0, A( 0, A( 0, A( 0,  1))))))))\n",
      "A( 0, A( 0, A( 0, A( 0, A( 0, A( 0, A( 0,  2)))))))\n",
      "A( 0, A( 0, A( 0, A( 0, A( 0, A( 0,  3))))))\n",
      "A( 0, A( 0, A( 0, A( 0, A( 0,  4)))))\n",
      "A( 0, A( 0, A( 0, A( 0,  5))))\n",
      "A( 0, A( 0, A( 0,  6)))\n",
      "A( 0, A( 0,  7))\n",
      "A( 0,  8)\n"
     ]
    },
    {
     "data": {
      "text/plain": [
       "9"
      ]
     },
     "execution_count": 4,
     "metadata": {},
     "output_type": "execute_result"
    }
   ],
   "source": [
    "A(2,3)"
   ]
  },
  {
   "cell_type": "code",
   "execution_count": null,
   "metadata": {},
   "outputs": [],
   "source": []
  }
 ],
 "metadata": {
  "kernelspec": {
   "display_name": "Python 3",
   "language": "python",
   "name": "python3"
  },
  "language_info": {
   "codemirror_mode": {
    "name": "ipython",
    "version": 3
   },
   "file_extension": ".py",
   "mimetype": "text/x-python",
   "name": "python",
   "nbconvert_exporter": "python",
   "pygments_lexer": "ipython3",
   "version": "3.6.6+"
  }
 },
 "nbformat": 4,
 "nbformat_minor": 4
}
