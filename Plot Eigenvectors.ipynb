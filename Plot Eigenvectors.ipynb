{
 "cells": [
  {
   "cell_type": "code",
   "execution_count": 1,
   "metadata": {},
   "outputs": [],
   "source": [
    "import numpy as np\n",
    "import matplotlib.pyplot as plt"
   ]
  },
  {
   "cell_type": "code",
   "execution_count": 2,
   "metadata": {},
   "outputs": [],
   "source": [
    "N = 1000\n",
    "xTrue = np.linspace(0, 1000, N)\n",
    "yTrue = 3 * xTrue\n",
    "xData = xTrue + np.random.normal(0, 100, N)\n",
    "yData = yTrue + np.random.normal(0, 100, N)\n",
    "xData = np.reshape(xData, (N, 1))\n",
    "yData = np.reshape(yData, (N, 1))\n",
    "data = np.hstack((xData, yData))"
   ]
  },
  {
   "cell_type": "code",
   "execution_count": 3,
   "metadata": {},
   "outputs": [
    {
     "name": "stdout",
     "output_type": "stream",
     "text": [
      "[[-0.3181709  -0.94803338]\n",
      " [-0.94803338  0.3181709 ]]\n"
     ]
    }
   ],
   "source": [
    "mu = data.mean(axis=0)\n",
    "data = data - mu\n",
    "# data = (data - mu)/data.std(axis=0)  # Uncommenting this reproduces mlab.PCA results\n",
    "eigenvectors, eigenvalues, V = np.linalg.svd(data.T, full_matrices=False)\n",
    "projected_data = np.dot(data, eigenvectors)\n",
    "sigma = projected_data.std(axis=0).mean()\n",
    "print(eigenvectors)"
   ]
  },
  {
   "cell_type": "code",
   "execution_count": 4,
   "metadata": {},
   "outputs": [
    {
     "data": {
      "image/png": "[encoded data removed]",
      "text/plain": [
       "<Figure size 432x288 with 1 Axes>"
      ]
     },
     "metadata": {
      "needs_background": "light"
     },
     "output_type": "display_data"
    }
   ],
   "source": [
    "fig, ax = plt.subplots()\n",
    "ax.scatter(xData, yData)\n",
    "for axis in eigenvectors:\n",
    "    start, end = mu, mu + sigma * axis\n",
    "    ax.annotate(\n",
    "        '', xy=end, xycoords='data',\n",
    "        xytext=start, textcoords='data',\n",
    "        arrowprops=dict(facecolor='red', width=2.0))\n",
    "ax.set_aspect('equal')\n",
    "plt.show()"
   ]
  }
 ],
 "metadata": {
  "kernelspec": {
   "display_name": "Python 3",
   "language": "python",
   "name": "python3"
  },
  "language_info": {
   "codemirror_mode": {
    "name": "ipython",
    "version": 3
   },
   "file_extension": ".py",
   "mimetype": "text/x-python",
   "name": "python",
   "nbconvert_exporter": "python",
   "pygments_lexer": "ipython3",
   "version": "3.8.5"
  }
 },
 "nbformat": 4,
 "nbformat_minor": 4
}
