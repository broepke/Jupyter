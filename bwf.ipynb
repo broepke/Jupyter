{
 "cells": [
  {
   "cell_type": "markdown",
   "metadata": {},
   "source": [
    "# Built With Forge Jupyter"
   ]
  },
  {
   "cell_type": "markdown",
   "metadata": {},
   "source": [
    "## Instructions\n",
    "\n",
    "This Jupyter Notebook parses a local CSV file named \"bwf.csv\" that contains a dump from the Built with Forge Heatmap.  This assumes that there are no headers in the file and that some of the superflous items are removed.  The following Order is assumed for the columns in the CSV file.\n",
    "\n",
    "1. \"Service Name\"\n",
    "2. \"Product Family\"\n",
    "3. \"Observability/ Supportability\"\n",
    "4. \"Quality\"\n",
    "5. \"Cost Efficiency\"\n",
    "6. \"Compliance/ Privacy\"\n",
    "7. \"Reliability/ Availability\"\n",
    "8. \"Build/ Release\"\n",
    "9. \"Security\"\n",
    "10. \"Scalability/ Performance\"\n",
    "11. \"Common Architecture\"\n",
    "12. \"Bronze Total\"\n",
    "\n",
    "Finally - ensure that the values for the percentages are stored as numbers in the CSV and do not contain the \"%\" sign.  You might need to pre-process the data slightly for this purpose."
   ]
  },
  {
   "cell_type": "markdown",
   "metadata": {},
   "source": [
    "### List the Contents of the Directory\n",
    "\n",
    "Make sure the bwf.csv file is present.  (Also this is here to show the \"!\" in front of a standard shell command.)"
   ]
  },
  {
   "cell_type": "code",
   "execution_count": 1,
   "metadata": {},
   "outputs": [
    {
     "name": "stdout",
     "output_type": "stream",
     "text": [
      "Amazon-SageMaker-high-level-Python-library.ipynb\r\n",
      "My First Notebook.ipynb\r\n",
      "Pandas-Demo.ipynb\r\n",
      "README.md\r\n",
      "\u001b[34mUCSanDiegoX\u001b[m\u001b[m\r\n",
      "\u001b[34mUNIX\u001b[m\u001b[m\r\n",
      "\u001b[34mUdemy - Python and Pandas\u001b[m\u001b[m\r\n",
      "bwf.csv\r\n",
      "bwf.ipynb\r\n",
      "database.sqlite\r\n",
      "donuts.csv\r\n",
      "ex-application.zip\r\n",
      "ex-driver.zip\r\n",
      "kmeans_mnist.ipynb\r\n",
      "training.csv\r\n"
     ]
    }
   ],
   "source": [
    "!ls"
   ]
  },
  {
   "cell_type": "markdown",
   "metadata": {},
   "source": [
    "### Load Matplotlib as well as Pandas\n",
    "\n",
    "Utilities used for visualization and file parsing"
   ]
  },
  {
   "cell_type": "code",
   "execution_count": 2,
   "metadata": {},
   "outputs": [],
   "source": [
    "%matplotlib inline\n",
    "import pandas as pd\n",
    "import numpy as np\n",
    "import matplotlib\n",
    "import matplotlib.pyplot as plt"
   ]
  },
  {
   "cell_type": "code",
   "execution_count": 3,
   "metadata": {},
   "outputs": [],
   "source": [
    "bwf = pd.read_csv(\"bwf.csv\", names=[\"SVCS\",\"FAM\",\"MON\", \"QA\", \"COST\", \"COMP\", \"REL\", \"CICD\", \"SEC\", \"PERF\", \"ARCH\",\"TOTAL\"])"
   ]
  },
  {
   "cell_type": "markdown",
   "metadata": {},
   "source": [
    "### Display the File\n",
    "\n",
    "The head command will load the first five rows of the spreadsheet"
   ]
  },
  {
   "cell_type": "code",
   "execution_count": 4,
   "metadata": {},
   "outputs": [
    {
     "data": {
      "text/html": [
       "<div>\n",
       "<style scoped>\n",
       "    .dataframe tbody tr th:only-of-type {\n",
       "        vertical-align: middle;\n",
       "    }\n",
       "\n",
       "    .dataframe tbody tr th {\n",
       "        vertical-align: top;\n",
       "    }\n",
       "\n",
       "    .dataframe thead th {\n",
       "        text-align: right;\n",
       "    }\n",
       "</style>\n",
       "<table border=\"1\" class=\"dataframe\">\n",
       "  <thead>\n",
       "    <tr style=\"text-align: right;\">\n",
       "      <th></th>\n",
       "      <th>SVCS</th>\n",
       "      <th>FAM</th>\n",
       "      <th>MON</th>\n",
       "      <th>QA</th>\n",
       "      <th>COST</th>\n",
       "      <th>COMP</th>\n",
       "      <th>REL</th>\n",
       "      <th>CICD</th>\n",
       "      <th>SEC</th>\n",
       "      <th>PERF</th>\n",
       "      <th>ARCH</th>\n",
       "      <th>TOTAL</th>\n",
       "    </tr>\n",
       "  </thead>\n",
       "  <tbody>\n",
       "    <tr>\n",
       "      <th>0</th>\n",
       "      <td>ABus</td>\n",
       "      <td>MCP-Cloud Platform</td>\n",
       "      <td>1.0</td>\n",
       "      <td>1.0</td>\n",
       "      <td>1.0</td>\n",
       "      <td>1.0</td>\n",
       "      <td>1.0</td>\n",
       "      <td>1.0</td>\n",
       "      <td>1.0</td>\n",
       "      <td>1.0</td>\n",
       "      <td>1.0</td>\n",
       "      <td>1.0</td>\n",
       "    </tr>\n",
       "    <tr>\n",
       "      <th>1</th>\n",
       "      <td>ACE</td>\n",
       "      <td>MCP-Cloud Platform</td>\n",
       "      <td>1.0</td>\n",
       "      <td>1.0</td>\n",
       "      <td>1.0</td>\n",
       "      <td>1.0</td>\n",
       "      <td>1.0</td>\n",
       "      <td>1.0</td>\n",
       "      <td>1.0</td>\n",
       "      <td>1.0</td>\n",
       "      <td>1.0</td>\n",
       "      <td>1.0</td>\n",
       "    </tr>\n",
       "    <tr>\n",
       "      <th>2</th>\n",
       "      <td>ACM</td>\n",
       "      <td>MCP-Cloud Platform</td>\n",
       "      <td>1.0</td>\n",
       "      <td>1.0</td>\n",
       "      <td>1.0</td>\n",
       "      <td>1.0</td>\n",
       "      <td>1.0</td>\n",
       "      <td>1.0</td>\n",
       "      <td>1.0</td>\n",
       "      <td>1.0</td>\n",
       "      <td>1.0</td>\n",
       "      <td>1.0</td>\n",
       "    </tr>\n",
       "    <tr>\n",
       "      <th>3</th>\n",
       "      <td>Activity</td>\n",
       "      <td>MCP-Cloud Platform</td>\n",
       "      <td>1.0</td>\n",
       "      <td>1.0</td>\n",
       "      <td>1.0</td>\n",
       "      <td>1.0</td>\n",
       "      <td>1.0</td>\n",
       "      <td>1.0</td>\n",
       "      <td>1.0</td>\n",
       "      <td>1.0</td>\n",
       "      <td>1.0</td>\n",
       "      <td>1.0</td>\n",
       "    </tr>\n",
       "    <tr>\n",
       "      <th>4</th>\n",
       "      <td>BIM 360 Locations</td>\n",
       "      <td>MCP-Construction</td>\n",
       "      <td>1.0</td>\n",
       "      <td>1.0</td>\n",
       "      <td>1.0</td>\n",
       "      <td>1.0</td>\n",
       "      <td>1.0</td>\n",
       "      <td>1.0</td>\n",
       "      <td>1.0</td>\n",
       "      <td>1.0</td>\n",
       "      <td>1.0</td>\n",
       "      <td>1.0</td>\n",
       "    </tr>\n",
       "  </tbody>\n",
       "</table>\n",
       "</div>"
      ],
      "text/plain": [
       "                SVCS                 FAM  MON   QA  COST  COMP  REL  CICD  \\\n",
       "0               ABus  MCP-Cloud Platform  1.0  1.0   1.0   1.0  1.0   1.0   \n",
       "1                ACE  MCP-Cloud Platform  1.0  1.0   1.0   1.0  1.0   1.0   \n",
       "2                ACM  MCP-Cloud Platform  1.0  1.0   1.0   1.0  1.0   1.0   \n",
       "3           Activity  MCP-Cloud Platform  1.0  1.0   1.0   1.0  1.0   1.0   \n",
       "4  BIM 360 Locations    MCP-Construction  1.0  1.0   1.0   1.0  1.0   1.0   \n",
       "\n",
       "   SEC  PERF  ARCH  TOTAL  \n",
       "0  1.0   1.0   1.0    1.0  \n",
       "1  1.0   1.0   1.0    1.0  \n",
       "2  1.0   1.0   1.0    1.0  \n",
       "3  1.0   1.0   1.0    1.0  \n",
       "4  1.0   1.0   1.0    1.0  "
      ]
     },
     "execution_count": 4,
     "metadata": {},
     "output_type": "execute_result"
    }
   ],
   "source": [
    "bwf.head()"
   ]
  },
  {
   "cell_type": "markdown",
   "metadata": {},
   "source": [
    "### Display Some Visulazations about the Data"
   ]
  },
  {
   "cell_type": "code",
   "execution_count": 5,
   "metadata": {},
   "outputs": [
    {
     "data": {
      "text/plain": [
       "<matplotlib.axes._subplots.AxesSubplot at 0x1170bd048>"
      ]
     },
     "execution_count": 5,
     "metadata": {},
     "output_type": "execute_result"
    },
    {
     "data": {
      "image/png": "[encoded data removed]",
      "text/plain": [
       "<Figure size 432x288 with 1 Axes>"
      ]
     },
     "metadata": {
      "needs_background": "light"
     },
     "output_type": "display_data"
    }
   ],
   "source": [
    "bwf.TOTAL.plot()"
   ]
  },
  {
   "cell_type": "code",
   "execution_count": 6,
   "metadata": {},
   "outputs": [
    {
     "data": {
      "text/plain": [
       "<matplotlib.axes._subplots.AxesSubplot at 0x11747b390>"
      ]
     },
     "execution_count": 6,
     "metadata": {},
     "output_type": "execute_result"
    },
    {
     "data": {
      "image/png": "[encoded data removed]",
      "text/plain": [
       "<Figure size 432x288 with 1 Axes>"
      ]
     },
     "metadata": {
      "needs_background": "light"
     },
     "output_type": "display_data"
    }
   ],
   "source": [
    "bwf.TOTAL.hist()"
   ]
  },
  {
   "cell_type": "markdown",
   "metadata": {},
   "source": [
    "## Heatmap Trial\n",
    "\n",
    "https://matplotlib.org/gallery/images_contours_and_fields/image_annotated_heatmap.html#sphx-glr-gallery-images-contours-and-fields-image-annotated-heatmap-py"
   ]
  },
  {
   "cell_type": "code",
   "execution_count": 7,
   "metadata": {},
   "outputs": [],
   "source": [
    "bwfheatmap = bwf.drop(columns=['SVCS','FAM'])"
   ]
  },
  {
   "cell_type": "code",
   "execution_count": 8,
   "metadata": {
    "scrolled": true
   },
   "outputs": [],
   "source": [
    "# bwfheatmap.set_index('SVCS').head()"
   ]
  },
  {
   "cell_type": "code",
   "execution_count": 17,
   "metadata": {},
   "outputs": [],
   "source": [
    "bwfheatmap = bwfheatmap[-30:]"
   ]
  },
  {
   "cell_type": "code",
   "execution_count": 20,
   "metadata": {},
   "outputs": [
    {
     "data": {
      "image/png": "[encoded data removed]",
      "text/plain": [
       "<Figure size 1440x1440 with 1 Axes>"
      ]
     },
     "metadata": {
      "needs_background": "light"
     },
     "output_type": "display_data"
    }
   ],
   "source": [
    "fig, ax = plt.subplots(figsize=(20, 20))\n",
    "im = ax.imshow(bwfheatmap)\n",
    "\n",
    "# ... and label them with the respective list entries\n",
    "ax.set_xticklabels([\"MON\", \"QA\", \"COST\", \"COMP\", \"REL\", \"CICD\", \"SEC\", \"PERF\", \"ARCH\",\"TOTAL\"])\n",
    "ax.set_yticklabels('')\n",
    "\n",
    "\n",
    "\n",
    "# Rotate the tick labels and set their alignment.\n",
    "plt.setp(ax.get_xticklabels(), rotation=45, ha=\"right\",\n",
    "         rotation_mode=\"anchor\")\n",
    "\n",
    "\n",
    "ax.set_title(\"BWF Bronze Status\")\n",
    "plt.show()"
   ]
  },
  {
   "cell_type": "code",
   "execution_count": 21,
   "metadata": {},
   "outputs": [
    {
     "data": {
      "text/plain": [
       "<matplotlib.axes._subplots.AxesSubplot at 0x1a1bcb12b0>"
      ]
     },
     "execution_count": 21,
     "metadata": {},
     "output_type": "execute_result"
    },
    {
     "data": {
      "image/png": "[encoded data removed]",
      "text/plain": [
       "<Figure size 720x1440 with 2 Axes>"
      ]
     },
     "metadata": {
      "needs_background": "light"
     },
     "output_type": "display_data"
    }
   ],
   "source": [
    "import seaborn as sns\n",
    "\n",
    "plt.figure(figsize=(10,20))\n",
    "sns.heatmap(bwfheatmap, cmap=\"coolwarm\")"
   ]
  },
  {
   "cell_type": "code",
   "execution_count": null,
   "metadata": {},
   "outputs": [],
   "source": []
  },
  {
   "cell_type": "code",
   "execution_count": null,
   "metadata": {},
   "outputs": [],
   "source": []
  }
 ],
 "metadata": {
  "kernelspec": {
   "display_name": "Python 3",
   "language": "python",
   "name": "python3"
  },
  "language_info": {
   "codemirror_mode": {
    "name": "ipython",
    "version": 3
   },
   "file_extension": ".py",
   "mimetype": "text/x-python",
   "name": "python",
   "nbconvert_exporter": "python",
   "pygments_lexer": "ipython3",
   "version": "3.7.1"
  }
 },
 "nbformat": 4,
 "nbformat_minor": 2
}
