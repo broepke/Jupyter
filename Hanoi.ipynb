{
 "cells": [
  {
   "cell_type": "markdown",
   "metadata": {},
   "source": [
    "Altenkirch, Thorsten. Conceptual Programming with Python (p. 100). Lulu.com. Kindle Edition. "
   ]
  },
  {
   "cell_type": "code",
   "execution_count": 1,
   "metadata": {},
   "outputs": [],
   "source": [
    "def hanoi(n,f,h,t) :\n",
    "    stack = [[\"h\",n,f,h,t]]\n",
    "    while stack != [] :\n",
    "        op = stack[0]\n",
    "        stack = stack[1:]\n",
    "        if op[0]==\"h\" :\n",
    "            n,f,h,t = op[1],op[2],op[3],op[4]\n",
    "            if n==0 :\n",
    "                continue\n",
    "            else :\n",
    "                stack = [[\"h\",n-1,f,t,h],\n",
    "                         [\"m\",f,t],\n",
    "                         [\"h\",n-1,h,f,t]]+stack\n",
    "        elif op[0] == \"m\" :\n",
    "            f,t = op[1],op[2]\n",
    "            print(\"Move disc from {} to {}\".format(f,t))\n"
   ]
  },
  {
   "cell_type": "code",
   "execution_count": 2,
   "metadata": {},
   "outputs": [
    {
     "name": "stdout",
     "output_type": "stream",
     "text": [
      "Move disc from A to B\n",
      "Move disc from A to C\n",
      "Move disc from B to C\n",
      "Move disc from A to B\n",
      "Move disc from C to A\n",
      "Move disc from C to B\n",
      "Move disc from A to B\n",
      "Move disc from A to C\n",
      "Move disc from B to C\n",
      "Move disc from B to A\n",
      "Move disc from C to A\n",
      "Move disc from B to C\n",
      "Move disc from A to B\n",
      "Move disc from A to C\n",
      "Move disc from B to C\n"
     ]
    }
   ],
   "source": [
    "hanoi(4,\"A\",\"B\",\"C\")"
   ]
  },
  {
   "cell_type": "code",
   "execution_count": null,
   "metadata": {},
   "outputs": [],
   "source": []
  }
 ],
 "metadata": {
  "kernelspec": {
   "display_name": "Python 3",
   "language": "python",
   "name": "python3"
  },
  "language_info": {
   "codemirror_mode": {
    "name": "ipython",
    "version": 3
   },
   "file_extension": ".py",
   "mimetype": "text/x-python",
   "name": "python",
   "nbconvert_exporter": "python",
   "pygments_lexer": "ipython3",
   "version": "3.8.5"
  }
 },
 "nbformat": 4,
 "nbformat_minor": 4
}
