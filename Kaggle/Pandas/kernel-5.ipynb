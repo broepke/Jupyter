{
  "cells": [
    {
      "metadata": {
        "_uuid": "bdceec8c91f99111258704272ded2dead0bcf99e"
      },
      "cell_type": "markdown",
      "source": "**[Pandas Course Home Page](https://www.kaggle.com/learn/pandas)**\n\n---\n"
    },
    {
      "metadata": {
        "collapsed": true,
        "_uuid": "a1e6715914bd6ff2f4ac0d74b6c3365962f017b6"
      },
      "cell_type": "markdown",
      "source": "# Data types and missing data workbook\n\n## Introduction\n\nThis is the workbook component of the \"Data types and missing data\" section of the tutorial.\n\n# Relevant Resources\n- [Data Types and Missing Data Reference](https://www.kaggle.com/residentmario/data-types-and-missing-data-reference)\n\n# Set Up\n\nRun the following cell to load your data and some utility functions."
    },
    {
      "metadata": {
        "trusted": false,
        "_uuid": "1b3b0812310954f3ca335e1ec9419ecc6acd6d82"
      },
      "cell_type": "code",
      "source": "import pandas as pd\n\nreviews = pd.read_csv(\"../input/wine-reviews/winemag-data-130k-v2.csv\", index_col=0)\n\nfrom learntools.core import binder; binder.bind(globals())\nfrom learntools.pandas.data_types_and_missing_data import *\nprint(\"Setup complete.\")",
      "execution_count": null,
      "outputs": []
    },
    {
      "metadata": {
        "_uuid": "3dc540978ee291b22d1e8739357e7dcabdb59a01"
      },
      "cell_type": "markdown",
      "source": "# Exercises"
    },
    {
      "metadata": {
        "_uuid": "1c61d5d611b68ae9cc1b5e9d7cd758072a8e66e1"
      },
      "cell_type": "markdown",
      "source": "## 1. \nWhat is the data type of the `points` column in the dataset?"
    },
    {
      "metadata": {
        "trusted": false,
        "_uuid": "935032f814bb617d0ec689356cc22f791fcb192a"
      },
      "cell_type": "code",
      "source": "# Your code here\ndtype = ____\n\nq1.check()",
      "execution_count": null,
      "outputs": []
    },
    {
      "metadata": {
        "trusted": false,
        "_uuid": "bb158cb19f9eb95da2eaf4da9ac4ac837af193db"
      },
      "cell_type": "code",
      "source": "#q1.hint()\n#q1.solution()",
      "execution_count": null,
      "outputs": []
    },
    {
      "metadata": {
        "_uuid": "d6d24411823fc823dd8ef21e03887dfd88a27bea"
      },
      "cell_type": "markdown",
      "source": "## 2. \nCreate a `Series` from entries in the `points` column, but convert the entries to strings. Hint: strings are `str` in native Python."
    },
    {
      "metadata": {
        "trusted": false,
        "_uuid": "81c9beac10dabb5a493f560c9527b49bbeea7bf8"
      },
      "cell_type": "code",
      "source": "point_strings = ____\n\nq2.check()",
      "execution_count": null,
      "outputs": []
    },
    {
      "metadata": {
        "trusted": false,
        "_uuid": "b9c2153ea7a313ff484b985a27a35f5ae55f197f"
      },
      "cell_type": "code",
      "source": "#q2.hint()\n#q2.solution()",
      "execution_count": null,
      "outputs": []
    },
    {
      "metadata": {
        "_uuid": "f43197caafe1f7a7eda5a69fc837037a0d01ad57"
      },
      "cell_type": "markdown",
      "source": "## 3.\nSometimes the price column is null. How many reviews in the dataset are missing a price?"
    },
    {
      "metadata": {
        "trusted": false,
        "_uuid": "5aab8a9249689c1b181b3d37afc37514290ba726"
      },
      "cell_type": "code",
      "source": "n_missing_prices = ____\n\nq3.check()",
      "execution_count": null,
      "outputs": []
    },
    {
      "metadata": {
        "trusted": false,
        "_uuid": "8365787571178db2419b992deb79431a1328accb"
      },
      "cell_type": "code",
      "source": "#q3.hint()\n#q3.solution()",
      "execution_count": null,
      "outputs": []
    },
    {
      "metadata": {
        "_uuid": "3e674f1fb8d0340f2b5240cd883d9235171cc3eb"
      },
      "cell_type": "markdown",
      "source": "## 4.\nWhat are the most common wine-producing regions? Create a `Series` counting the number of times each value occurs in the `region_1` field. This field is often missing data, so replace missing values with `Unknown`. Sort in descending order.  Your output should look something like this:\n\n```\nUnknown                    21247\nNapa Valley                 4480\n                           ...  \nBardolino Superiore            1\nPrimitivo del Tarantino        1\nName: region_1, Length: 1230, dtype: int64\n```"
    },
    {
      "metadata": {
        "trusted": false,
        "_uuid": "258c89dd75b459c899e801e2176bb28f31763630"
      },
      "cell_type": "code",
      "source": "reviews_per_region = ____\n\nq4.check()",
      "execution_count": null,
      "outputs": []
    },
    {
      "metadata": {
        "trusted": false,
        "_uuid": "0b4331f351b34ff878a318740a6777a9d9f6a360"
      },
      "cell_type": "code",
      "source": "#q4.hint()\n#q4.solution()",
      "execution_count": null,
      "outputs": []
    },
    {
      "metadata": {
        "_uuid": "8c1f15e7085c81925a76ea49900fe28bde209e97"
      },
      "cell_type": "markdown",
      "source": "# Keep going\nMove on to the **[Renaming and combining workbook](https://www.kaggle.com/kernels/fork/638064)**."
    },
    {
      "metadata": {
        "_uuid": "04e1b8e5dced8cd2de9383411c0a6005145d6b35"
      },
      "cell_type": "markdown",
      "source": "---\n**[Pandas Course Home Page](https://www.kaggle.com/learn/pandas)**\n\n"
    }
  ],
  "metadata": {
    "kernelspec": {
      "display_name": "Python 3",
      "language": "python",
      "name": "python3"
    },
    "language_info": {
      "codemirror_mode": {
        "name": "ipython",
        "version": 3
      },
      "file_extension": ".py",
      "mimetype": "text/x-python",
      "name": "python",
      "nbconvert_exporter": "python",
      "pygments_lexer": "ipython3",
      "version": "3.6.5"
    }
  },
  "nbformat": 4,
  "nbformat_minor": 1
}