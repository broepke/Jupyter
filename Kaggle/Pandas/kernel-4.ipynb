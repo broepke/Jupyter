{
  "cells": [
    {
      "metadata": {
        "_uuid": "d906b45d5a975568b02d2a0cf045068394b7f565"
      },
      "cell_type": "markdown",
      "source": "**[Pandas Course Home Page](https://www.kaggle.com/learn/pandas)**\n\n---\n"
    },
    {
      "metadata": {
        "collapsed": true,
        "_uuid": "4995f6fa1312bf62c2d80623316e4ec256b34f6c"
      },
      "cell_type": "markdown",
      "source": "# Introduction\nMaps allow us to transform data in a `DataFrame` or `Series` one value at a time for an entire column. However, often we want to group our data, and then do something specific to the group the data is in. We do this with the `groupby` operation.\n\nIn these exercises we'll apply groupwise analysis to our dataset.\n\n# Relevant Resources\n- [**Grouping Reference and Examples**](https://www.kaggle.com/residentmario/grouping-and-sorting-reference)  \n- [Pandas cheat sheet](https://github.com/pandas-dev/pandas/blob/master/doc/cheatsheet/Pandas_Cheat_Sheet.pdf)"
    },
    {
      "metadata": {
        "_uuid": "661167754296261392de47ff426af0bfca6748cd"
      },
      "cell_type": "markdown",
      "source": "# Set Up\nRun the code cell below to load the data before running the exercises."
    },
    {
      "metadata": {
        "trusted": false,
        "_uuid": "67c992bac4713dd9c2f530968697d414e4580790"
      },
      "cell_type": "code",
      "source": "import pandas as pd\n\nreviews = pd.read_csv(\"../input/wine-reviews/winemag-data-130k-v2.csv\", index_col=0)\n#pd.set_option(\"display.max_rows\", 5)\n\nfrom learntools.core import binder; binder.bind(globals())\nfrom learntools.pandas.grouping_and_sorting import *\nprint(\"Setup complete.\")",
      "execution_count": null,
      "outputs": []
    },
    {
      "metadata": {
        "_uuid": "3a3437533feb537e94afb570a5235529022008a3"
      },
      "cell_type": "markdown",
      "source": "# Exercises"
    },
    {
      "metadata": {
        "_uuid": "ccf53c8d765faaa5a486e2dc03e6c797630be7d2"
      },
      "cell_type": "markdown",
      "source": "## 1.\nWho are the most common wine reviewers in the dataset? Create a `Series` whose index is the `taster_twitter_handle` category from the dataset, and whose values count how many reviews each person wrote."
    },
    {
      "metadata": {
        "trusted": false,
        "_uuid": "2e3d25f46e8c999be50bb0961f113d3a5e65c18e"
      },
      "cell_type": "code",
      "source": "# Your code here\nreviews_written = ____\n\nq1.check()",
      "execution_count": null,
      "outputs": []
    },
    {
      "metadata": {
        "trusted": false,
        "_uuid": "8059bbe601e66b67e3d6525ed5fd7fa98f31a390"
      },
      "cell_type": "code",
      "source": "#q1.hint()\n#q1.solution()",
      "execution_count": null,
      "outputs": []
    },
    {
      "metadata": {
        "_uuid": "a2c9d86156b6a2d67d30b8a12b718deb7878fe9a"
      },
      "cell_type": "markdown",
      "source": "## 2.\nWhat is the best wine I can buy for a given amount of money? Create a `Series` whose index is wine prices and whose values is the maximum number of points a wine costing that much was given in a review. Sort the values by price, ascending (so that `4.0` dollars is at the top and `3300.0` dollars is at the bottom)."
    },
    {
      "metadata": {
        "trusted": false,
        "_uuid": "6ceabaa15be1a9ada30ac4836c4565f24d2071a4"
      },
      "cell_type": "code",
      "source": "best_rating_per_price = ____\n\nq2.check()",
      "execution_count": null,
      "outputs": []
    },
    {
      "metadata": {
        "trusted": false,
        "_uuid": "6a6cc5e900832e037740fbfcae4b4ca1ec79f4ff"
      },
      "cell_type": "code",
      "source": "#q2.hint()\n#q2.solution()",
      "execution_count": null,
      "outputs": []
    },
    {
      "metadata": {
        "_uuid": "45b659f2ef1c56e691f0e91099587731a49b769c"
      },
      "cell_type": "markdown",
      "source": "## 3.\nWhat are the minimum and maximum prices for each `variety` of wine? Create a `DataFrame` whose index is the `variety` category from the dataset and whose values are the `min` and `max` values thereof."
    },
    {
      "metadata": {
        "trusted": false,
        "_uuid": "d4102194f9d3547aacbeee84bcf89b6f57cb8c13"
      },
      "cell_type": "code",
      "source": "price_extremes = ____\n\nq3.check()",
      "execution_count": null,
      "outputs": []
    },
    {
      "metadata": {
        "trusted": false,
        "_uuid": "b2e45edd5f4fe36c2485077c5f26fe7002c1fe75"
      },
      "cell_type": "code",
      "source": "#q3.hint()\n#q3.solution()",
      "execution_count": null,
      "outputs": []
    },
    {
      "metadata": {
        "_uuid": "8c8819548e08f1d091bc5b17bb7b54393767cf81"
      },
      "cell_type": "markdown",
      "source": "## 4.\nWhat are the most expensive wine varieties? Create a variable `sorted_varieties` containing a copy of the dataframe from the previous question where varieties are sorted in descending order based on minimum price, then on maximum price (to break ties)."
    },
    {
      "metadata": {
        "trusted": false,
        "_uuid": "2b4a538dae60711ff510b2ef167b54b378368dcd"
      },
      "cell_type": "code",
      "source": "sorted_varieties = ____\n\nq4.check()",
      "execution_count": null,
      "outputs": []
    },
    {
      "metadata": {
        "trusted": false,
        "_uuid": "0f4ac5fb4e283160d7752587f0fb586a3da58f95"
      },
      "cell_type": "code",
      "source": "#q4.hint()\n#q4.solution()",
      "execution_count": null,
      "outputs": []
    },
    {
      "metadata": {
        "_uuid": "6a5877d29d9250d6812ee15ea4eed2b4d9a45bd6"
      },
      "cell_type": "markdown",
      "source": "## 5.\nCreate a `Series` whose index is reviewers and whose values is the average review score given out by that reviewer. Hint: you will need the `taster_name` and `points` columns."
    },
    {
      "metadata": {
        "trusted": false,
        "_uuid": "5304900bce88dfb2b1612a115930113b7b035b96"
      },
      "cell_type": "code",
      "source": "reviewer_mean_ratings = ____\n\nq5.check()",
      "execution_count": null,
      "outputs": []
    },
    {
      "metadata": {
        "trusted": false,
        "_uuid": "b0490cce0ae21a7d8640ee5b7531e33e6c0fe022"
      },
      "cell_type": "code",
      "source": "#q5.hint()\n#q5.solution()",
      "execution_count": null,
      "outputs": []
    },
    {
      "metadata": {
        "_uuid": "4ff2a064ca49f56d74b813640e388920db7dc65b"
      },
      "cell_type": "markdown",
      "source": "Are there significant differences in the average scores assigned by the various reviewers? Run the cell below to use the `describe()` method to see a summary of the range of values."
    },
    {
      "metadata": {
        "trusted": false,
        "_uuid": "b5296b86f722cad7afcf8aabc82f89c5e63f6db2"
      },
      "cell_type": "code",
      "source": "reviewer_mean_ratings.describe()",
      "execution_count": null,
      "outputs": []
    },
    {
      "metadata": {
        "_uuid": "87530545b163194b5a60dcdc2fdc7193c7e509de"
      },
      "cell_type": "markdown",
      "source": "## 6.\nWhat combination of countries and varieties are most common? Create a `Series` whose index is a `MultiIndex`of `{country, variety}` pairs. For example, a pinot noir produced in the US should map to `{\"US\", \"Pinot Noir\"}`. Sort the values in the `Series` in descending order based on wine count."
    },
    {
      "metadata": {
        "trusted": false,
        "_uuid": "d298c03900ceed4829b49904755bcc580e34b6d5"
      },
      "cell_type": "code",
      "source": "country_variety_counts = ____\n\nq6.check()",
      "execution_count": null,
      "outputs": []
    },
    {
      "metadata": {
        "trusted": false,
        "_uuid": "7371255a19329e244e7a772cd22cc4ffc4024e6f"
      },
      "cell_type": "code",
      "source": "#q6.hint()\n#q6.solution()",
      "execution_count": null,
      "outputs": []
    },
    {
      "metadata": {
        "_uuid": "41ee845dbd307f5e3808c7e5976c823027f2eb1c"
      },
      "cell_type": "markdown",
      "source": "# Keep Going\n\nMove on to the [**Data types and missing data workbook**](https://www.kaggle.com/kernels/fork/598826)."
    },
    {
      "metadata": {
        "_uuid": "1fb75b60cfe71b9be2c95888936f9c18f563883f"
      },
      "cell_type": "markdown",
      "source": "---\n**[Pandas Course Home Page](https://www.kaggle.com/learn/pandas)**\n\n"
    }
  ],
  "metadata": {
    "kernelspec": {
      "display_name": "Python 3",
      "language": "python",
      "name": "python3"
    },
    "language_info": {
      "codemirror_mode": {
        "name": "ipython",
        "version": 3
      },
      "file_extension": ".py",
      "mimetype": "text/x-python",
      "name": "python",
      "nbconvert_exporter": "python",
      "pygments_lexer": "ipython3",
      "version": "3.6.5"
    }
  },
  "nbformat": 4,
  "nbformat_minor": 1
}