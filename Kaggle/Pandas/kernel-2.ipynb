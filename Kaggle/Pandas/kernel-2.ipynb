{
  "cells": [
    {
      "metadata": {
        "_uuid": "fbefb9edd3e288449b19396e4f907942cc85c920"
      },
      "cell_type": "markdown",
      "source": "**[Pandas Course Home Page](https://www.kaggle.com/learn/pandas)**\n\n---\n"
    },
    {
      "metadata": {
        "_uuid": "0b42b57b9de99be003c54b3a60b5ef3931abf4e9"
      },
      "cell_type": "markdown",
      "source": "# Introduction\n\nThis is the workbook component of the \"Indexing, selecting, assigning\" section. For the reference component, [**click here**](https://www.kaggle.com/residentmario/indexing-selecting-assigning-reference).\n\nSelecting specific values of a pandas `DataFrame` or `Series` to work on is an implicit step in almost any data operation you'll run, so one of the first things you need to learn in working with data in Python is how to go about selecting the data points relevant to you quickly and effectively.\n\nIn this set of exercises we will work on exploring the [Wine Reviews dataset](https://www.kaggle.com/zynicide/wine-reviews). \n\n# Relevant Resources\n* **[Quickstart to indexing and selecting data](https://www.kaggle.com/residentmario/indexing-and-selecting-data/)** \n* [Indexing and Selecting Data](https://pandas.pydata.org/pandas-docs/stable/indexing.html) section of pandas documentation\n* [Pandas Cheat Sheet](https://assets.datacamp.com/blog_assets/PandasPythonForDataScience.pdf)\n\n\n"
    },
    {
      "metadata": {
        "_uuid": "a66575226758f38bd2f457beae6693b929d9a130"
      },
      "cell_type": "markdown",
      "source": "# Set Up\n\nRun the following cell to load your data and some utility functions (including code to check your answers)."
    },
    {
      "metadata": {
        "trusted": false,
        "_uuid": "b47cfc2c524edf67b28ab966b74c9e17850d4e43"
      },
      "cell_type": "code",
      "source": "import pandas as pd\n\nreviews = pd.read_csv(\"../input/wine-reviews/winemag-data-130k-v2.csv\", index_col=0)\npd.set_option(\"display.max_rows\", 5)\n\nfrom learntools.core import binder; binder.bind(globals())\nfrom learntools.pandas.indexing_selecting_and_assigning import *\nprint(\"Setup complete.\")",
      "execution_count": null,
      "outputs": []
    },
    {
      "metadata": {
        "_uuid": "f4790e14599d25e94b06c0065f2bc969c01c3aa9"
      },
      "cell_type": "markdown",
      "source": "Look at an overview of your data by running the following line"
    },
    {
      "metadata": {
        "trusted": false,
        "_uuid": "3f4dff349baefb917fbdcc7a7670d2056d626329"
      },
      "cell_type": "code",
      "source": "reviews.head()",
      "execution_count": null,
      "outputs": []
    },
    {
      "metadata": {
        "_uuid": "466012a638d1343203e1ea5e52a43cb12b63731e"
      },
      "cell_type": "markdown",
      "source": "# Exercises"
    },
    {
      "metadata": {
        "collapsed": true,
        "_uuid": "cf8baec76671bad52432597ab6ed3c56cbf3e3bf"
      },
      "cell_type": "markdown",
      "source": "## 1.\n\nSelect the `description` column from `reviews` and assign the result to the variable `desc`."
    },
    {
      "metadata": {
        "trusted": false,
        "_uuid": "0af0186ee55c6ec583ee3d2a2551db77fa71f6bb"
      },
      "cell_type": "code",
      "source": "# Your code here\ndesc = ____\n\nq1.check()",
      "execution_count": null,
      "outputs": []
    },
    {
      "metadata": {
        "_uuid": "f46c5b69a86209cfb6cd726d1376770804531517"
      },
      "cell_type": "markdown",
      "source": "Follow-up question: what type of object is `desc`? If you're not sure, you can check by calling Python's `type` function: `type(desc)`."
    },
    {
      "metadata": {
        "trusted": false,
        "_uuid": "78aac9f802158a1510f36184707e61cb6be457bf"
      },
      "cell_type": "code",
      "source": "#q1.hint()\n#q1.solution()",
      "execution_count": null,
      "outputs": []
    },
    {
      "metadata": {
        "_uuid": "b6c8e4c20506dbbdb6592cb13a63154f655cf788"
      },
      "cell_type": "markdown",
      "source": "## 2.\n\nSelect the first value from the description column of `reviews`, assigning it to variable `first_description`."
    },
    {
      "metadata": {
        "trusted": false,
        "_uuid": "00c2df9de2aa29ee31804b66fac9df130218b24f"
      },
      "cell_type": "code",
      "source": "first_description = ____\n\nq2.check()\nfirst_description",
      "execution_count": null,
      "outputs": []
    },
    {
      "metadata": {
        "trusted": false,
        "_uuid": "d9e9d889f6c62cf3dfbee9f4e0f21c71dd4bb6da"
      },
      "cell_type": "code",
      "source": "#q2.hint()\n#q2.solution()",
      "execution_count": null,
      "outputs": []
    },
    {
      "metadata": {
        "_uuid": "a9c23ea763f018920a29c736c1fda4c1851f6530"
      },
      "cell_type": "markdown",
      "source": "## 3. \n\nSelect the first row of data (the first record) from `reviews`, assigning it to the variable `first_row`."
    },
    {
      "metadata": {
        "trusted": false,
        "_uuid": "da90f6a3fbc5202d9f5f59887fd6b21a8f8e8528"
      },
      "cell_type": "code",
      "source": "first_row = ____\n\nq3.check()\nfirst_row",
      "execution_count": null,
      "outputs": []
    },
    {
      "metadata": {
        "trusted": false,
        "_uuid": "d6d09c315d99b3cc38bd0ac52e0d489bab64b8c8"
      },
      "cell_type": "code",
      "source": "#q3.hint()\n#q3.solution()",
      "execution_count": null,
      "outputs": []
    },
    {
      "metadata": {
        "_uuid": "2d10765cb686ae1added0fbeb44d35b291fd4320"
      },
      "cell_type": "markdown",
      "source": "## 4.\n\nSelect the first 10 values from the `description` column in `reviews`, assigning the result to variable `first_descriptions`.\n\nHint: format your output as a `pandas` `Series`."
    },
    {
      "metadata": {
        "trusted": false,
        "_uuid": "c3dedbdd6896e98eae026499318c9157b77153b8"
      },
      "cell_type": "code",
      "source": "first_descriptions = ____\n\nq4.check()\nfirst_descriptions",
      "execution_count": null,
      "outputs": []
    },
    {
      "metadata": {
        "trusted": false,
        "_uuid": "b62ef3871dd9e100bd7224a72853465105a17493"
      },
      "cell_type": "code",
      "source": "#q4.hint()\n#q4.solution()",
      "execution_count": null,
      "outputs": []
    },
    {
      "metadata": {
        "_uuid": "42767f3165521da6ab20c9b1eaa20cec26fe5f54"
      },
      "cell_type": "markdown",
      "source": "## 5.\n\nSelect the records with index labels `1`, `2`, `3`, `5`, and `8`, assigning the result to the variable `sample_reviews`.\n\nIn other words, generate the following DataFrame:\n\n![](https://i.imgur.com/sHZvI1O.png)"
    },
    {
      "metadata": {
        "trusted": false,
        "_uuid": "cc63f5e74362d8af88a0e8f7afa699211eae4c2f"
      },
      "cell_type": "code",
      "source": "sample_reviews = ____\n\nq5.check()\nsample_reviews",
      "execution_count": null,
      "outputs": []
    },
    {
      "metadata": {
        "trusted": false,
        "_uuid": "9d5d37a552018c34f259134ee6741a18e4f21954"
      },
      "cell_type": "code",
      "source": "#q5.hint()\n#q5.solution()",
      "execution_count": null,
      "outputs": []
    },
    {
      "metadata": {
        "_uuid": "1a6deab873312baf57f791ff845bff50bee4d818"
      },
      "cell_type": "markdown",
      "source": "## 6.\n\nCreate a variable `df` containing the `country`, `province`, `region_1`, and `region_2` columns of the records with the index labels `0`, `1`, `10`, and `100`. In other words, generate the following `DataFrame`:\n\n![](https://i.imgur.com/FUCGiKP.png)"
    },
    {
      "metadata": {
        "trusted": false,
        "_uuid": "4d5354567a0d730f2b0c9c12ddc5cc80a1eee735"
      },
      "cell_type": "code",
      "source": "df = ____\n\nq6.check()\ndf",
      "execution_count": null,
      "outputs": []
    },
    {
      "metadata": {
        "trusted": false,
        "_uuid": "6f4b94fb0e5abfa5423bb1de1fa551c95427d131"
      },
      "cell_type": "code",
      "source": "#q6.hint()\n#q6.solution()",
      "execution_count": null,
      "outputs": []
    },
    {
      "metadata": {
        "_uuid": "e264c981812bf1de6c086f5b7c54ea827a84f67e"
      },
      "cell_type": "markdown",
      "source": "## 7.\n\nCreate a variable `df` containing the `country` and `variety` columns of the first 100 records. \n\nHint: you may use `loc` or `iloc`. When working on the answer this question and the several of the ones that follow, keep the following \"gotcha\" described in the [reference](https://www.kaggle.com/residentmario/indexing-selecting-assigning-reference) for this tutorial section:\n\n> `iloc` uses the Python stdlib indexing scheme, where the first element of the range is included and the last one excluded. So `0:10` will select entries `0,...,9`. `loc`, meanwhile, indexes inclusively. So `0:10` will select entries `0,...,10`.\n\n> [...]\n\n> ...[consider] when the DataFrame index is a simple numerical list, e.g. `0,...,1000`. In this case `reviews.iloc[0:1000]` will return 1000 entries, while `reviews.loc[0:1000]` return 1001 of them! To get 1000 elements using `iloc`, you will need to go one higher and ask for `reviews.iloc[0:1001]`."
    },
    {
      "metadata": {
        "trusted": false,
        "_uuid": "0713ad8e211e458ad1db724f4357ebfae6573c7c"
      },
      "cell_type": "code",
      "source": "df = ____\n\nq7.check()\ndf",
      "execution_count": null,
      "outputs": []
    },
    {
      "metadata": {
        "trusted": false,
        "_uuid": "b541a06814abad602f1013c67268ef6a2ca2374b"
      },
      "cell_type": "code",
      "source": "#q7.hint()\n#q7.solution()",
      "execution_count": null,
      "outputs": []
    },
    {
      "metadata": {
        "_uuid": "4aec7ff16fe43f93fab340b1e1344c3d4ec3f797"
      },
      "cell_type": "markdown",
      "source": "## 8.\n\nCreate a DataFrame `italian_wines` containing reviews of wines made in `Italy`. Hint: `reviews.country` equals what?"
    },
    {
      "metadata": {
        "trusted": false,
        "_uuid": "b7cb7f821570e2e3667e26258a4d451520b9b721"
      },
      "cell_type": "code",
      "source": "italian_wines = ____\n\nq8.check()",
      "execution_count": null,
      "outputs": []
    },
    {
      "metadata": {
        "trusted": false,
        "_uuid": "655efc550c9c75c0a01b638d346524ded3b76c84"
      },
      "cell_type": "code",
      "source": "#q8.hint()\n#q8.solution()",
      "execution_count": null,
      "outputs": []
    },
    {
      "metadata": {
        "_uuid": "f744f6d174ddf9b45fec1254c9883680d1f0fbb6"
      },
      "cell_type": "markdown",
      "source": "## 9.\n\nCreate a DataFrame `top_oceania_wines` containing all reviews with at least 95 points (out of 100) for wines from Australia or New Zealand."
    },
    {
      "metadata": {
        "trusted": false,
        "_uuid": "94218a507b0d570c4915e4f95ec902b788feec9c"
      },
      "cell_type": "code",
      "source": "top_oceania_wines = ____\n\nq9.check()\ntop_oceania_wines",
      "execution_count": null,
      "outputs": []
    },
    {
      "metadata": {
        "trusted": false,
        "_uuid": "e05733fca68a871be0e1c8024025656a1271b081"
      },
      "cell_type": "code",
      "source": "#q9.hint()\n#q9.solution()",
      "execution_count": null,
      "outputs": []
    },
    {
      "metadata": {
        "_uuid": "1b690db03d7413ec916d88560b44a4fa2df373dc"
      },
      "cell_type": "markdown",
      "source": "## Keep going\n\nMove on to the **[Summary functions and maps workbook](https://www.kaggle.com/kernels/fork/595524)**."
    },
    {
      "metadata": {
        "_uuid": "8e6b9854dbe55083c87a9fff84be69a145e73539"
      },
      "cell_type": "markdown",
      "source": "---\n**[Pandas Course Home Page](https://www.kaggle.com/learn/pandas)**\n\n"
    }
  ],
  "metadata": {
    "kernelspec": {
      "display_name": "Python 3",
      "language": "python",
      "name": "python3"
    },
    "language_info": {
      "codemirror_mode": {
        "name": "ipython",
        "version": 3
      },
      "file_extension": ".py",
      "mimetype": "text/x-python",
      "name": "python",
      "nbconvert_exporter": "python",
      "pygments_lexer": "ipython3",
      "version": "3.6.5"
    }
  },
  "nbformat": 4,
  "nbformat_minor": 1
}