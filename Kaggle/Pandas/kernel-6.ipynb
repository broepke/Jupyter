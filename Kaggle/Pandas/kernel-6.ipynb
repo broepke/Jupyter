{
  "cells": [
    {
      "metadata": {
        "_uuid": "f7f3fd5bd98aa9a8ddf27fc2017edf1b09ef9c1a"
      },
      "cell_type": "markdown",
      "source": "**[Pandas Course Home Page](https://www.kaggle.com/learn/pandas)**\n\n---\n"
    },
    {
      "metadata": {
        "_uuid": "28946adbab843b4bffc2b585d5e1f39f94f7c621"
      },
      "cell_type": "markdown",
      "source": "# Renaming and combining workbook\n\n## Introduction\n\nThis is the workbook part of the \"Renaming and combining\" section of the Advanced Pandas tutorial. For the reference section, click [here](https://www.kaggle.com/residentmario/renaming-and-combining-reference).\n\nRenaming is covered in its own section in the [\"Essential Basic Functionality\"](https://pandas.pydata.org/pandas-docs/stable/basics.html#renaming-mapping-labels) section of the extensive official documentation. Combining is covered by the [\"Merge, join, concatenate\"](https://pandas.pydata.org/pandas-docs/stable/merging.html) section there."
    },
    {
      "metadata": {
        "trusted": false,
        "_uuid": "9f0817fcace6c8cad62c2434dcab98d7dd5553d6"
      },
      "cell_type": "code",
      "source": "import pandas as pd\n\nreviews = pd.read_csv(\"../input/wine-reviews/winemag-data-130k-v2.csv\", index_col=0)\n\nfrom learntools.core import binder; binder.bind(globals())\nfrom learntools.pandas.renaming_and_combining import *\nprint(\"Setup complete.\")",
      "execution_count": null,
      "outputs": []
    },
    {
      "metadata": {
        "_uuid": "e7bbdaeb3bfee14940be9123522797264b8ad3c9"
      },
      "cell_type": "markdown",
      "source": "# Exercises\n\nView the first several lines of your data by running the cell below:"
    },
    {
      "metadata": {
        "trusted": false,
        "_uuid": "f21bb91e19a59864e4a751182d87b6918f36fb1c"
      },
      "cell_type": "code",
      "source": "reviews.head()",
      "execution_count": null,
      "outputs": []
    },
    {
      "metadata": {
        "_uuid": "52a1c04f52ccbbf6b99ee1ebc9e88fc90ed3c292"
      },
      "cell_type": "markdown",
      "source": "## 1.\n`region_1` and `region_2` are pretty uninformative names for locale columns in the dataset. Create a copy of `reviews` with these columns renamed to `region` and `locale`, respectively."
    },
    {
      "metadata": {
        "trusted": false,
        "_uuid": "ef558995e894749fe48523bfcfb164868cd90727"
      },
      "cell_type": "code",
      "source": "# Your code here\nrenamed = ____\n\nq1.check()",
      "execution_count": null,
      "outputs": []
    },
    {
      "metadata": {
        "trusted": false,
        "_uuid": "17ea727d4126788c0d5b08a9a97ee5df8714ffd0"
      },
      "cell_type": "code",
      "source": "#q1.hint()\n#q1.solution()",
      "execution_count": null,
      "outputs": []
    },
    {
      "metadata": {
        "_uuid": "127305c6c0fa642a28697d223dace766eaa0bf10"
      },
      "cell_type": "markdown",
      "source": "## 2.\nSet the index name in the dataset to `wines`."
    },
    {
      "metadata": {
        "trusted": false,
        "_uuid": "de2ddebddd357510dcf0d718ecdbd24aa4b33679"
      },
      "cell_type": "code",
      "source": "reindexed = ____\n\nq2.check()",
      "execution_count": null,
      "outputs": []
    },
    {
      "metadata": {
        "trusted": false,
        "_uuid": "8a658aefb05b7db613fbabb83fdbfe37e53aa223"
      },
      "cell_type": "code",
      "source": "#q2.hint()\n#q2.solution()",
      "execution_count": null,
      "outputs": []
    },
    {
      "metadata": {
        "_uuid": "259747f85a432e7a1054b700eaa915bb1277e804"
      },
      "cell_type": "markdown",
      "source": "## 3.\nThe [Things on Reddit](https://www.kaggle.com/residentmario/things-on-reddit/data) dataset includes product links from a selection of top-ranked forums (\"subreddits\") on reddit.com. Run the cell below to load a dataframe of products mentioned on the */r/gaming* subreddit and another dataframe for products mentioned on the *r//movies* subreddit."
    },
    {
      "metadata": {
        "trusted": false,
        "_uuid": "74604f201ca53b3810052e24fa1df4f9c7da7fa5"
      },
      "cell_type": "code",
      "source": "gaming_products = pd.read_csv(\"../input/things-on-reddit/top-things/top-things/reddits/g/gaming.csv\")\ngaming_products['subreddit'] = \"r/gaming\"\nmovie_products = pd.read_csv(\"../input/things-on-reddit/top-things/top-things/reddits/m/movies.csv\")\nmovie_products['subreddit'] = \"r/movies\"",
      "execution_count": null,
      "outputs": []
    },
    {
      "metadata": {
        "_uuid": "2f51dc504f08383fc263effad856f575b55b6b04"
      },
      "cell_type": "markdown",
      "source": "Create a `DataFrame` of products mentioned on *either* subreddit."
    },
    {
      "metadata": {
        "trusted": false,
        "_uuid": "1eeea8c38ac2b75f19244f5474048eff08ca8884"
      },
      "cell_type": "code",
      "source": "combined_products = ____\n\nq3.check()",
      "execution_count": null,
      "outputs": []
    },
    {
      "metadata": {
        "trusted": false,
        "_uuid": "b24f02704ddfe453ce3d25efe0349f4d5ca5e471"
      },
      "cell_type": "code",
      "source": "#q3.hint()\n#q3.solution()",
      "execution_count": null,
      "outputs": []
    },
    {
      "metadata": {
        "_uuid": "a3d0455a54d297143b99ba2c3cdf43d844f5f962"
      },
      "cell_type": "markdown",
      "source": "## 4.\nThe [Powerlifting Database](https://www.kaggle.com/open-powerlifting/powerlifting-database) dataset on Kaggle includes one CSV table for powerlifting meets and a separate one for powerlifting competitors. Run the cell below to load these datasets into dataframes:"
    },
    {
      "metadata": {
        "trusted": false,
        "_uuid": "5a7462722211db63234d66896cc9fb0077d03df6"
      },
      "cell_type": "code",
      "source": "powerlifting_meets = pd.read_csv(\"../input/powerlifting-database/meets.csv\")\npowerlifting_competitors = pd.read_csv(\"../input/powerlifting-database/openpowerlifting.csv\")",
      "execution_count": null,
      "outputs": []
    },
    {
      "metadata": {
        "_uuid": "cdaf23307e323545372ffdb01066952eb97c2c3d"
      },
      "cell_type": "markdown",
      "source": "Both tables include references to a `MeetID`, a unique key for each meet (competition) included in the database. Using this, generate a dataset combining the two tables into one."
    },
    {
      "metadata": {
        "trusted": false,
        "_uuid": "b0fdb106effa00653e1d4674fadac293c3f7a7ea"
      },
      "cell_type": "code",
      "source": "powerlifting_combined = ____\n\nq4.check()",
      "execution_count": null,
      "outputs": []
    },
    {
      "metadata": {
        "trusted": false,
        "_uuid": "c0ba46a4ecfaaeceebf2b465b9bb71bf72efc53a"
      },
      "cell_type": "code",
      "source": "#q4.hint()\n#q4.solution()",
      "execution_count": null,
      "outputs": []
    },
    {
      "metadata": {
        "_uuid": "182fe29324472222f81124dd3e0a604ffa9171cd"
      },
      "cell_type": "markdown",
      "source": "# Congratulations\n\nYou've finished the Pandas track.  Many data scientist feel efficiency with Pandas is the most useful and practical skill they have, because it allows you to progress quickly in any project you have.\n\nYou can take advantage of your Pandas skills by entering a [Kaggle Competition](https://www.kaggle.com/competitions) or answering a question you find interesting using [Kaggle Datasets](https://www.kaggle.com/datasets)."
    },
    {
      "metadata": {
        "_uuid": "7650c9394ca48ce83738bac1726e9019ff842820"
      },
      "cell_type": "markdown",
      "source": "---\n**[Pandas Course Home Page](https://www.kaggle.com/learn/pandas)**\n\n"
    }
  ],
  "metadata": {
    "kernelspec": {
      "display_name": "Python 3",
      "language": "python",
      "name": "python3"
    },
    "language_info": {
      "codemirror_mode": {
        "name": "ipython",
        "version": 3
      },
      "file_extension": ".py",
      "mimetype": "text/x-python",
      "name": "python",
      "nbconvert_exporter": "python",
      "pygments_lexer": "ipython3",
      "version": "3.6.5"
    }
  },
  "nbformat": 4,
  "nbformat_minor": 1
}