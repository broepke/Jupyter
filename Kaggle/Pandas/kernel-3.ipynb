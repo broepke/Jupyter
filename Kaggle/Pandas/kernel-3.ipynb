{
  "cells": [
    {
      "metadata": {
        "_uuid": "afb9196c60220ecfc313a9cf92a3dfe76a1ff4e2"
      },
      "cell_type": "markdown",
      "source": "**[Pandas Course Home Page](https://www.kaggle.com/learn/pandas)**\n\n---\n"
    },
    {
      "metadata": {
        "_uuid": "6c83129a1ebc0ba53c98418302155709152d7d43"
      },
      "cell_type": "markdown",
      "source": "# Summary functions and maps workbook\n\n## Introduction\n\nThis is the workbook component to the \"Summary functions and maps\" section of the Advanced Pandas tutorial. For the reference section, [**click here**](https://www.kaggle.com/residentmario/summary-functions-and-maps-reference).\n\nIn the last section we learned how to select relevant data out of our `pandas` `DataFrame` and `Series` objects. Plucking the right data out of our data representation is critical to getting work done, as we demonstrated in the visualization exercises attached to the workbook.\n\nHowever, the data does not always come out of memory in the format we want it in right out of the bat. Sometimes we have to do some more work ourselves to reformat it for the task at hand.\n\nThe remainder of this tutorial will cover different operations we can apply to our data to get the input \"just right\". We'll start off in this section by looking at the most commonly looked built-in reshaping operations. Along the way we'll cover data `dtypes`, a concept essential to working with `pandas` effectively."
    },
    {
      "metadata": {
        "trusted": false,
        "_uuid": "018e2251709528fcbef41519f2496473161c0564"
      },
      "cell_type": "code",
      "source": "import pandas as pd\npd.set_option(\"display.max_rows\", 5)\nreviews = pd.read_csv(\"../input/wine-reviews/winemag-data-130k-v2.csv\", index_col=0)\n\nfrom learntools.core import binder; binder.bind(globals())\nfrom learntools.pandas.summary_functions_and_maps import *\nprint(\"Setup complete.\")\n\nreviews.head()",
      "execution_count": null,
      "outputs": []
    },
    {
      "metadata": {
        "_uuid": "0be549ed01d74b2856ba78a67f355e143e2a61aa"
      },
      "cell_type": "markdown",
      "source": "## Exercises"
    },
    {
      "metadata": {
        "_uuid": "19d397c09a8cd12c5ea74768cc2a1d928caf9b27"
      },
      "cell_type": "markdown",
      "source": "## 1.\n\nWhat is the median of the `points` column in the `reviews` DataFrame?"
    },
    {
      "metadata": {
        "trusted": false,
        "_uuid": "cbcb996018d8db7e77a0de263579d55e765396df"
      },
      "cell_type": "code",
      "source": "median_points = ____\n\nq1.check()",
      "execution_count": null,
      "outputs": []
    },
    {
      "metadata": {
        "trusted": false,
        "_uuid": "3151e36c6bcba1ede5d03b708cd7bc6264c0e462"
      },
      "cell_type": "code",
      "source": "#q1.hint()\n#q1.solution()",
      "execution_count": null,
      "outputs": []
    },
    {
      "metadata": {
        "_uuid": "04ef5ded2b01e91a8c676fcffd30fc1af0ad2036"
      },
      "cell_type": "markdown",
      "source": "## 2. \nWhat countries are represented in the dataset? (Your answer should not include any duplicates.)"
    },
    {
      "metadata": {
        "trusted": false,
        "_uuid": "58697eac0c92c9ee50d25da95475a603c95c5944"
      },
      "cell_type": "code",
      "source": "countries = ____\n\nq2.check()",
      "execution_count": null,
      "outputs": []
    },
    {
      "metadata": {
        "trusted": false,
        "_uuid": "47a19073311c12a2d23743be305c87a654edec78"
      },
      "cell_type": "code",
      "source": "#q2.hint()\n#q2.solution()",
      "execution_count": null,
      "outputs": []
    },
    {
      "metadata": {
        "_uuid": "baaf9058eeb11ae777140e6fb49eb78a7391023f"
      },
      "cell_type": "markdown",
      "source": "## 3.\nHow often does each country appear in the dataset? Create a Series `reviews_per_country` mapping countries to the count of reviews of wines from that country."
    },
    {
      "metadata": {
        "trusted": false,
        "_uuid": "1cd1c445cfefcd3655282bae0c5745021dceec10"
      },
      "cell_type": "code",
      "source": "reviews_per_country = ____\n\nq3.check()",
      "execution_count": null,
      "outputs": []
    },
    {
      "metadata": {
        "trusted": false,
        "_uuid": "5d64f4d6dab19f5cf0ea1330627f45d6d6876461"
      },
      "cell_type": "code",
      "source": "#q3.hint()\n#q3.solution()",
      "execution_count": null,
      "outputs": []
    },
    {
      "metadata": {
        "_uuid": "7da2f4a5e76ecc73ffa98673d4a9e3dc1cf40a70"
      },
      "cell_type": "markdown",
      "source": "## 4.\nCreate variable `centered_price` containing a version of the `price` column with the mean price subtracted.\n\n(Note: this 'centering' transformation is a common preprocessing step before applying various machine learning algorithms.) "
    },
    {
      "metadata": {
        "trusted": false,
        "_uuid": "57899e301b2d4ece9d422b885420f18783d9374f"
      },
      "cell_type": "code",
      "source": "centered_price = ____\n\nq4.check()",
      "execution_count": null,
      "outputs": []
    },
    {
      "metadata": {
        "trusted": false,
        "_uuid": "e68caf5958768bf3fde54cf6abc11bae88afa767"
      },
      "cell_type": "code",
      "source": "#q4.hint()\n#q4.solution()",
      "execution_count": null,
      "outputs": []
    },
    {
      "metadata": {
        "_uuid": "2091adbdf49177542160d2e46aa1720b0a0d8897"
      },
      "cell_type": "markdown",
      "source": "## 5.\nI'm an economical wine buyer. Which wine is the \"best bargain\"? Create a variable `bargain_wine` with the title of the wine with the highest points-to-price ratio in the dataset."
    },
    {
      "metadata": {
        "trusted": false,
        "_uuid": "2a4e614e2a5b30f0c907d0478e676d4bdc202bbf"
      },
      "cell_type": "code",
      "source": "bargain_wine = ____\n\nq5.check()",
      "execution_count": null,
      "outputs": []
    },
    {
      "metadata": {
        "trusted": false,
        "_uuid": "1cd74eef207a820f44d22b67e5b28fba37e11752"
      },
      "cell_type": "code",
      "source": "#q5.hint()\n#q5.solution()",
      "execution_count": null,
      "outputs": []
    },
    {
      "metadata": {
        "_uuid": "5913686d16551eef46dee44d58ef976dcadeaaa7"
      },
      "cell_type": "markdown",
      "source": "## 6.\nThere are only so many words you can use when describing a bottle of wine. Is a wine more likely to be \"tropical\" or \"fruity\"? Create a Series `descriptor_counts` counting how many times each of these two words appears in the `description` column in the dataset."
    },
    {
      "metadata": {
        "trusted": false,
        "_uuid": "9649f81f407227a0f4293692fb62514fb83cac80"
      },
      "cell_type": "code",
      "source": "descriptor_counts = ____\n\nq6.check()",
      "execution_count": null,
      "outputs": []
    },
    {
      "metadata": {
        "trusted": false,
        "_uuid": "b009c1f9f5c9f86c165b8304b8ef3085ef5c967b"
      },
      "cell_type": "code",
      "source": "#q6.hint()\n#q6.solution()",
      "execution_count": null,
      "outputs": []
    },
    {
      "metadata": {
        "_uuid": "f6a783d1b9794ce50719f5d00b16f07b0ccbc525"
      },
      "cell_type": "markdown",
      "source": "## 7.\nWe'd like to host these wine reviews on our website, but a rating system ranging from 80 to 100 points is too hard to understand - we'd like to translate them into simple star ratings. A score of 95 or higher counts as 3 stars, a score of at least 85 but less than 95 is 2 stars. Any other score is 1 star.\n\nAlso, the Canadian Vintners Association bought a lot of ads on the site, so any wines from Canada should automatically get 3 stars, regardless of points.\n\nCreate a series `star_ratings` with the number of stars corresponding to each review in the dataset."
    },
    {
      "metadata": {
        "trusted": false,
        "_uuid": "6400f5278feea49891f8a230755b9a89e0abaa6f"
      },
      "cell_type": "code",
      "source": "star_ratings = ____\n\nq7.check()",
      "execution_count": null,
      "outputs": []
    },
    {
      "metadata": {
        "trusted": false,
        "_uuid": "4c92ea02f1ddf0f9793c8f141b5db02e063a4f82"
      },
      "cell_type": "code",
      "source": "#q7.hint()\n#q7.solution()",
      "execution_count": null,
      "outputs": []
    },
    {
      "metadata": {
        "_uuid": "7cd5609bbc7c7951d78f554858a3d5830a9e49df"
      },
      "cell_type": "markdown",
      "source": "# Keep going\nContinue to **[grouping and sorting](https://www.kaggle.com/kernels/fork/598715)**."
    },
    {
      "metadata": {
        "_uuid": "7c33eb457fbd8d796ba47be7762ec4e768b3e85d"
      },
      "cell_type": "markdown",
      "source": "---\n**[Pandas Course Home Page](https://www.kaggle.com/learn/pandas)**\n\n"
    }
  ],
  "metadata": {
    "kernelspec": {
      "display_name": "Python 3",
      "language": "python",
      "name": "python3"
    },
    "language_info": {
      "codemirror_mode": {
        "name": "ipython",
        "version": 3
      },
      "file_extension": ".py",
      "mimetype": "text/x-python",
      "name": "python",
      "nbconvert_exporter": "python",
      "pygments_lexer": "ipython3",
      "version": "3.6.5"
    }
  },
  "nbformat": 4,
  "nbformat_minor": 1
}